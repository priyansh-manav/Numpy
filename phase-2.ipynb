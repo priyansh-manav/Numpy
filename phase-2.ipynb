{
 "cells": [
  {
   "cell_type": "markdown",
   "id": "0c2317aa",
   "metadata": {},
   "source": [
    "## Numpy Array operations"
   ]
  },
  {
   "cell_type": "code",
   "execution_count": 1,
   "id": "ca2f1eab",
   "metadata": {},
   "outputs": [],
   "source": [
    "import numpy as np"
   ]
  },
  {
   "cell_type": "code",
   "execution_count": null,
   "id": "253049ac",
   "metadata": {},
   "outputs": [],
   "source": [
    "arr = np.array([1,2,3,4,5,6,7,8])\n",
    "print(\"Basic Slicing: \",arr[1:7])\n",
    "print(\"With Step: \",arr[1:9:2])\n",
    "print(\"Negative indexing: \",arr[-4])"
   ]
  },
  {
   "cell_type": "code",
   "execution_count": 2,
   "id": "ae0e885b",
   "metadata": {},
   "outputs": [
    {
     "name": "stdout",
     "output_type": "stream",
     "text": [
      "Specific elements:  6\n",
      "Entire row:  [4 5 6]\n",
      "Entire column:  [2 5 8]\n"
     ]
    }
   ],
   "source": [
    "arr_2D = np.array([[1,2,3],\n",
    "                   [4,5,6],\n",
    "                   [7,8,9]])\n",
    "print(\"Specific elements: \",arr_2D[1,2])\n",
    "print(\"Entire row: \",arr_2D[1])\n",
    "print(\"Entire column: \",arr_2D[:,1])"
   ]
  },
  {
   "cell_type": "markdown",
   "id": "e89bfd38",
   "metadata": {},
   "source": [
    "## Sorting"
   ]
  },
  {
   "cell_type": "code",
   "execution_count": null,
   "id": "d7a83d84",
   "metadata": {},
   "outputs": [],
   "source": [
    "unsorted = np.array([1,2,3,5,9,12,1,2,64,2,35,78,16,15])\n",
    "print(\"Sorted Array: \",np.sort(unsorted))\n",
    "\n",
    "arr_2D_unsorted = np.array([[1,2,3],\n",
    "                     [4,1,6],\n",
    "                     [1,2,1]])\n",
    "print(\"Sorted array: \",np.sort(arr_2D_unsorted,axis=0)) "
   ]
  },
  {
   "cell_type": "markdown",
   "id": "c381c584",
   "metadata": {},
   "source": [
    "## Filter"
   ]
  },
  {
   "cell_type": "code",
   "execution_count": null,
   "id": "d114e61e",
   "metadata": {},
   "outputs": [],
   "source": [
    "numbers = np.array([1,2,3,4,5,6,7,8,9,10])\n",
    "even_number = numbers[numbers % 2 == 0]\n",
    "print(\"Even numbers: \",even_number)"
   ]
  },
  {
   "cell_type": "markdown",
   "id": "a7f432ab",
   "metadata": {},
   "source": [
    "## Filter with mask"
   ]
  },
  {
   "cell_type": "code",
   "execution_count": null,
   "id": "292459c2",
   "metadata": {},
   "outputs": [],
   "source": [
    "mask = numbers > 5\n",
    "print(\"Number greater than 5: \",numbers[mask])"
   ]
  },
  {
   "cell_type": "markdown",
   "id": "41811c01",
   "metadata": {},
   "source": [
    "## Fancy indexing vs np.where()"
   ]
  },
  {
   "cell_type": "code",
   "execution_count": null,
   "id": "7c38a88d",
   "metadata": {},
   "outputs": [],
   "source": [
    "indices = [0,2,4]\n",
    "print(numbers[indices])\n",
    "\n",
    "where_result = np.where(numbers > 5)\n",
    "print(\"NP where: \",numbers[where_result])"
   ]
  },
  {
   "cell_type": "code",
   "execution_count": null,
   "id": "2596647f",
   "metadata": {},
   "outputs": [],
   "source": [
    "condition_array = np.where(numbers>5,\"true\",\"false\")\n",
    "print(condition_array)"
   ]
  },
  {
   "cell_type": "markdown",
   "id": "cfae5c28",
   "metadata": {},
   "source": [
    "## Adding and Removing Data"
   ]
  },
  {
   "cell_type": "code",
   "execution_count": null,
   "id": "a00f689f",
   "metadata": {},
   "outputs": [],
   "source": [
    "arr1 = np.array([1,2,3])\n",
    "arr2 = np.array([4,5,6])\n",
    "\n",
    "combined = np.concatenate((arr1, arr2))\n",
    "print(combined)"
   ]
  },
  {
   "cell_type": "markdown",
   "id": "5f5effde",
   "metadata": {},
   "source": [
    "## Array compatibilty"
   ]
  },
  {
   "cell_type": "code",
   "execution_count": null,
   "id": "ad7c89f0",
   "metadata": {},
   "outputs": [],
   "source": [
    "a = np.array([1,2,3,5])\n",
    "b = np.array([4,5,6,5])\n",
    "c = np.array([7,8,9,5])\n",
    "\n",
    "print(\"Compatibility shapes: \",a.shape == b.shape == c.shape)"
   ]
  },
  {
   "cell_type": "code",
   "execution_count": null,
   "id": "39723eb4",
   "metadata": {},
   "outputs": [],
   "source": [
    "original = np.array([[1,2,3],[4,5,6]])\n",
    "new_row = np.array([7,8,9])\n",
    "\n",
    "with_new_row = np.vstack((original,new_row))\n",
    "print(original)\n",
    "print(with_new_row)\n",
    "\n",
    "\n",
    "new_col = np.array([[15],[16]])\n",
    "with_new_column = np.hstack((original , new_col))\n",
    "print(\"With new column:  \\n\",with_new_column)"
   ]
  },
  {
   "cell_type": "code",
   "execution_count": null,
   "id": "05d15d00",
   "metadata": {},
   "outputs": [],
   "source": [
    "arr = np.array([1,2,3,4,5,6,7,8,9,10])\n",
    "deleted = np.delete(arr,2)\n",
    "print(\"array after deleting: \",deleted)"
   ]
  }
 ],
 "metadata": {
  "kernelspec": {
   "display_name": ".venv",
   "language": "python",
   "name": "python3"
  },
  "language_info": {
   "codemirror_mode": {
    "name": "ipython",
    "version": 3
   },
   "file_extension": ".py",
   "mimetype": "text/x-python",
   "name": "python",
   "nbconvert_exporter": "python",
   "pygments_lexer": "ipython3",
   "version": "3.13.3"
  }
 },
 "nbformat": 4,
 "nbformat_minor": 5
}
