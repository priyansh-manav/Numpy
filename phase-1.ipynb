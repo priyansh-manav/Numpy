{
 "cells": [
  {
   "cell_type": "markdown",
   "id": "9177bcc3",
   "metadata": {},
   "source": [
    "## Numpy array and basics"
   ]
  },
  {
   "cell_type": "code",
   "execution_count": null,
   "id": "bfc670f1",
   "metadata": {},
   "outputs": [],
   "source": [
    "import numpy as np"
   ]
  },
  {
   "cell_type": "markdown",
   "id": "4074b65f",
   "metadata": {},
   "source": [
    "## creating array from list\n"
   ]
  },
  {
   "cell_type": "code",
   "execution_count": null,
   "id": "926712c1",
   "metadata": {},
   "outputs": [],
   "source": [
    "arr_1d = np.array([1,2,3,4,5,6])\n",
    "print(\"1D array : \",arr_1d)\n",
    "\n",
    "arr_2d = np.array([[1,2,3],[4,5,6]])\n",
    "print(\"2 D array : \",arr_2d)\n"
   ]
  },
  {
   "cell_type": "markdown",
   "id": "5fa1fc63",
   "metadata": {},
   "source": [
    "## List vs numpy array"
   ]
  },
  {
   "cell_type": "code",
   "execution_count": null,
   "id": "089ebeda",
   "metadata": {},
   "outputs": [],
   "source": [
    "py_list = [1,2,3]\n",
    "print(\"Python list multiplication : \",py_list * 2)\n",
    "\n",
    "np_array = np.array([1,2,3,4]) #element wise multiplication\n",
    "print(\"Python array multiplication : \",np_array * 2)\n",
    "\n",
    "\n",
    "import time\n",
    "start = time.time()\n",
    "py_list = [i*2 for i in range(1,1000000)]\n",
    "print(\"\\n List operation time = \",time.time()-start)\n",
    "\n",
    "start = time.time()\n",
    "np_array = np.arange(1000000)\n",
    "print(\"\\n Numpy operation time : \",time.time()-start)"
   ]
  },
  {
   "cell_type": "markdown",
   "id": "0fcfa728",
   "metadata": {},
   "source": [
    "## Creating array from scratch"
   ]
  },
  {
   "cell_type": "code",
   "execution_count": null,
   "id": "f70e8ee3",
   "metadata": {},
   "outputs": [],
   "source": [
    "zeros = np.zeros((3,4))\n",
    "print(\"Zeros array: \\n\",zeros)\n",
    "\n",
    "ones = np.ones((3,4))\n",
    "print(\"Ones array: \\n\",ones)\n",
    "\n",
    "full = np.full((3,3),16)\n",
    "print(\"Full array: \\n\",full)\n",
    "\n",
    "random = np.random.random((3,3))\n",
    "print(\"Random array: \\n\",random)\n",
    "\n",
    "sequence = np.arange(0,11,2)\n",
    "print(\"Sequence array: \\n\",sequence)\n"
   ]
  },
  {
   "cell_type": "markdown",
   "id": "36dbae99",
   "metadata": {},
   "source": [
    "## Vector,Matrix and Tensor"
   ]
  },
  {
   "cell_type": "code",
   "execution_count": null,
   "id": "51536d09",
   "metadata": {},
   "outputs": [],
   "source": [
    "vector = np.array([1,2,3,4])\n",
    "print(\"Vector: \\n\",vector)\n",
    "\n",
    "matrix = np.array([[1,2,3,4],\n",
    "                   [5,6,7,8]])\n",
    "print(\"Matrix: \\n\",matrix)\n",
    "\n",
    "tensor = np.array([[[1,2,3],[4,5,6]],\n",
    "                   [[7,8,9],[10,11,12]]])\n",
    "print(\"Tensor: \\n\",tensor)"
   ]
  },
  {
   "cell_type": "markdown",
   "id": "731757a0",
   "metadata": {},
   "source": [
    "## Array properties"
   ]
  },
  {
   "cell_type": "code",
   "execution_count": null,
   "id": "cea4306e",
   "metadata": {},
   "outputs": [],
   "source": [
    "arr = np.array([[1,2,3],\n",
    "                [4,5,6]])\n",
    "print(\"Size: \",arr.size)\n",
    "print(\"Shape: \",arr.shape)\n",
    "print(\"Dimension: \",arr.ndim)\n",
    "print(\"Data type: \",arr.dtype)"
   ]
  },
  {
   "cell_type": "markdown",
   "id": "3a0c07c4",
   "metadata": {},
   "source": [
    "## Array Reshaping"
   ]
  },
  {
   "cell_type": "code",
   "execution_count": null,
   "id": "414e39b6",
   "metadata": {},
   "outputs": [],
   "source": [
    "arr = np.arange(12)\n",
    "print(\"Original array: \",arr)\n",
    "\n",
    "reshaped = arr.reshape((3,4))\n",
    "print(\"\\n Reshaped array: \\n\",reshaped)\n",
    "\n",
    "flattened = reshaped.flatten()\n",
    "print(\"\\n Flattened array: \",flattened)\n",
    "\n",
    "# ravel (returns views, instead of copy)\n",
    "raveled = reshaped.ravel()\n",
    "print(\"\\n Raveled array: \",raveled)\n",
    "\n",
    "# Transpose\n",
    "transpose = reshaped.T\n",
    "print(\"\\n Transpose array: \\n\",transpose)"
   ]
  }
 ],
 "metadata": {
  "kernelspec": {
   "display_name": ".venv",
   "language": "python",
   "name": "python3"
  },
  "language_info": {
   "codemirror_mode": {
    "name": "ipython",
    "version": 3
   },
   "file_extension": ".py",
   "mimetype": "text/x-python",
   "name": "python",
   "nbconvert_exporter": "python",
   "pygments_lexer": "ipython3",
   "version": "3.13.3"
  }
 },
 "nbformat": 4,
 "nbformat_minor": 5
}
